{
 "cells": [
  {
   "cell_type": "code",
   "execution_count": 1,
   "id": "65841485-16e8-4874-9da7-44e038b7b97c",
   "metadata": {},
   "outputs": [
    {
     "name": "stdout",
     "output_type": "stream",
     "text": [
      "Python 3.8.15\n"
     ]
    }
   ],
   "source": [
    "!python --version"
   ]
  },
  {
   "cell_type": "code",
   "execution_count": 2,
   "id": "dd962e5c-023a-44c3-baf6-6abaa8cc6b41",
   "metadata": {},
   "outputs": [
    {
     "name": "stdout",
     "output_type": "stream",
     "text": [
      "3.8.15\n"
     ]
    }
   ],
   "source": [
    "from platform import python_version\n",
    "print(python_version())"
   ]
  },
  {
   "cell_type": "code",
   "execution_count": 3,
   "id": "b9455703-5575-4350-9e38-fd6600ca7742",
   "metadata": {},
   "outputs": [
    {
     "name": "stderr",
     "output_type": "stream",
     "text": [
      "2025-01-13 21:51:57.046964: I tensorflow/core/platform/cpu_feature_guard.cc:193] This TensorFlow binary is optimized with oneAPI Deep Neural Network Library (oneDNN) to use the following CPU instructions in performance-critical operations:  SSE4.1 SSE4.2 AVX AVX2 FMA\n",
      "To enable them in other operations, rebuild TensorFlow with the appropriate compiler flags.\n"
     ]
    }
   ],
   "source": [
    "import pandas as pd\n",
    "import tensorflow as tf\n",
    "import numpy as np\n",
    "import sklearn\n",
    "from sklearn import model_selection\n",
    "from sklearn.preprocessing import LabelEncoder "
   ]
  },
  {
   "cell_type": "code",
   "execution_count": 4,
   "id": "10f12a9d-593f-49ae-97b6-73e42cb0e3e3",
   "metadata": {},
   "outputs": [
    {
     "name": "stdout",
     "output_type": "stream",
     "text": [
      "1.3.5\n",
      "2.10.0\n",
      "1.21.6\n",
      "0.24.2\n"
     ]
    }
   ],
   "source": [
    "print(pd.__version__)\n",
    "print(tf.__version__)\n",
    "print(np.__version__)\n",
    "print(sklearn.__version__)"
   ]
  },
  {
   "cell_type": "code",
   "execution_count": 5,
   "id": "0c43651c-aed5-4a28-a010-46fbc922f320",
   "metadata": {},
   "outputs": [
    {
     "data": {
      "text/html": [
       "<div>\n",
       "<style scoped>\n",
       "    .dataframe tbody tr th:only-of-type {\n",
       "        vertical-align: middle;\n",
       "    }\n",
       "\n",
       "    .dataframe tbody tr th {\n",
       "        vertical-align: top;\n",
       "    }\n",
       "\n",
       "    .dataframe thead th {\n",
       "        text-align: right;\n",
       "    }\n",
       "</style>\n",
       "<table border=\"1\" class=\"dataframe\">\n",
       "  <thead>\n",
       "    <tr style=\"text-align: right;\">\n",
       "      <th></th>\n",
       "      <th>sentence</th>\n",
       "      <th>language</th>\n",
       "    </tr>\n",
       "  </thead>\n",
       "  <tbody>\n",
       "    <tr>\n",
       "      <th>0</th>\n",
       "      <td>klement gottwaldi surnukeha palsameeriti ning ...</td>\n",
       "      <td>Estonian</td>\n",
       "    </tr>\n",
       "    <tr>\n",
       "      <th>1</th>\n",
       "      <td>sebes joseph pereira thomas  på eng the jesuit...</td>\n",
       "      <td>Swedish</td>\n",
       "    </tr>\n",
       "    <tr>\n",
       "      <th>2</th>\n",
       "      <td>ถนนเจริญกรุง อักษรโรมัน thanon charoen krung เ...</td>\n",
       "      <td>Thai</td>\n",
       "    </tr>\n",
       "    <tr>\n",
       "      <th>3</th>\n",
       "      <td>விசாகப்பட்டினம் தமிழ்ச்சங்கத்தை இந்துப் பத்திர...</td>\n",
       "      <td>Tamil</td>\n",
       "    </tr>\n",
       "    <tr>\n",
       "      <th>4</th>\n",
       "      <td>de spons behoort tot het geslacht haliclona en...</td>\n",
       "      <td>Dutch</td>\n",
       "    </tr>\n",
       "  </tbody>\n",
       "</table>\n",
       "</div>"
      ],
      "text/plain": [
       "                                            sentence  language\n",
       "0  klement gottwaldi surnukeha palsameeriti ning ...  Estonian\n",
       "1  sebes joseph pereira thomas  på eng the jesuit...   Swedish\n",
       "2  ถนนเจริญกรุง อักษรโรมัน thanon charoen krung เ...      Thai\n",
       "3  விசாகப்பட்டினம் தமிழ்ச்சங்கத்தை இந்துப் பத்திர...     Tamil\n",
       "4  de spons behoort tot het geslacht haliclona en...     Dutch"
      ]
     },
     "execution_count": 5,
     "metadata": {},
     "output_type": "execute_result"
    }
   ],
   "source": [
    "train_df = pd.read_csv(\"Dataset/data.csv\")\n",
    "train_df.columns = ['sentence', 'language']\n",
    "train_df.head()"
   ]
  },
  {
   "cell_type": "code",
   "execution_count": 6,
   "id": "ce9eff1b-adc0-47be-8155-1e54b7be4707",
   "metadata": {},
   "outputs": [
    {
     "data": {
      "text/html": [
       "<div>\n",
       "<style scoped>\n",
       "    .dataframe tbody tr th:only-of-type {\n",
       "        vertical-align: middle;\n",
       "    }\n",
       "\n",
       "    .dataframe tbody tr th {\n",
       "        vertical-align: top;\n",
       "    }\n",
       "\n",
       "    .dataframe thead th {\n",
       "        text-align: right;\n",
       "    }\n",
       "</style>\n",
       "<table border=\"1\" class=\"dataframe\">\n",
       "  <thead>\n",
       "    <tr style=\"text-align: right;\">\n",
       "      <th></th>\n",
       "      <th>sentence</th>\n",
       "      <th>language</th>\n",
       "    </tr>\n",
       "  </thead>\n",
       "  <tbody>\n",
       "    <tr>\n",
       "      <th>0</th>\n",
       "      <td>klement gottwaldi surnukeha palsameeriti ning ...</td>\n",
       "      <td>estonian</td>\n",
       "    </tr>\n",
       "    <tr>\n",
       "      <th>1</th>\n",
       "      <td>sebes joseph pereira thomas  på eng the jesuit...</td>\n",
       "      <td>swedish</td>\n",
       "    </tr>\n",
       "    <tr>\n",
       "      <th>2</th>\n",
       "      <td>ถนนเจริญกรุง อักษรโรมัน thanon charoen krung เ...</td>\n",
       "      <td>thai</td>\n",
       "    </tr>\n",
       "    <tr>\n",
       "      <th>3</th>\n",
       "      <td>விசாகப்பட்டினம் தமிழ்ச்சங்கத்தை இந்துப் பத்திர...</td>\n",
       "      <td>tamil</td>\n",
       "    </tr>\n",
       "    <tr>\n",
       "      <th>4</th>\n",
       "      <td>de spons behoort tot het geslacht haliclona en...</td>\n",
       "      <td>dutch</td>\n",
       "    </tr>\n",
       "  </tbody>\n",
       "</table>\n",
       "</div>"
      ],
      "text/plain": [
       "                                            sentence  language\n",
       "0  klement gottwaldi surnukeha palsameeriti ning ...  estonian\n",
       "1  sebes joseph pereira thomas  på eng the jesuit...   swedish\n",
       "2  ถนนเจริญกรุง อักษรโรมัน thanon charoen krung เ...      thai\n",
       "3  விசாகப்பட்டினம் தமிழ்ச்சங்கத்தை இந்துப் பத்திர...     tamil\n",
       "4  de spons behoort tot het geslacht haliclona en...     dutch"
      ]
     },
     "execution_count": 6,
     "metadata": {},
     "output_type": "execute_result"
    }
   ],
   "source": [
    "# Convert all values in the 'language' column to lowercase\n",
    "train_df['language'] = train_df['language'].str.lower()\n",
    "\n",
    "# Display the first few rows to verify\n",
    "train_df.head()"
   ]
  },
  {
   "cell_type": "code",
   "execution_count": 7,
   "id": "221d4511-b156-42a5-974f-b114e2a6ada8",
   "metadata": {},
   "outputs": [
    {
     "data": {
      "text/plain": [
       "spanish       1966\n",
       "persian       1889\n",
       "french        1868\n",
       "english       1836\n",
       "chinese       1000\n",
       "arabic        1000\n",
       "russian       1000\n",
       "romanian      1000\n",
       "pushto        1000\n",
       "hindi         1000\n",
       "korean        1000\n",
       "estonian      1000\n",
       "swedish       1000\n",
       "portugese     1000\n",
       "indonesian    1000\n",
       "urdu          1000\n",
       "latin         1000\n",
       "turkish       1000\n",
       "japanese      1000\n",
       "dutch         1000\n",
       "tamil         1000\n",
       "thai          1000\n",
       "italian        963\n",
       "Name: language, dtype: int64"
      ]
     },
     "execution_count": 7,
     "metadata": {},
     "output_type": "execute_result"
    }
   ],
   "source": [
    "train_df['language'].value_counts()"
   ]
  },
  {
   "cell_type": "code",
   "execution_count": 8,
   "id": "f2d9b0d9-2f2d-4401-8591-1993e31878d3",
   "metadata": {},
   "outputs": [
    {
     "data": {
      "text/plain": [
       "array(['estonian', 'swedish', 'thai', 'tamil', 'dutch', 'japanese',\n",
       "       'turkish', 'latin', 'urdu', 'indonesian', 'portugese', 'french',\n",
       "       'chinese', 'korean', 'hindi', 'spanish', 'pushto', 'persian',\n",
       "       'romanian', 'russian', 'english', 'arabic', 'italian'],\n",
       "      dtype=object)"
      ]
     },
     "execution_count": 8,
     "metadata": {},
     "output_type": "execute_result"
    }
   ],
   "source": [
    "train_df['language'].unique()"
   ]
  },
  {
   "cell_type": "code",
   "execution_count": 9,
   "id": "3d822590-ef3f-465a-9ace-24e1eca36ab9",
   "metadata": {},
   "outputs": [
    {
     "data": {
      "text/plain": [
       "(26522, 2)"
      ]
     },
     "execution_count": 9,
     "metadata": {},
     "output_type": "execute_result"
    }
   ],
   "source": [
    "train_df.shape"
   ]
  },
  {
   "cell_type": "code",
   "execution_count": 10,
   "id": "7c1cb63e-6e90-4b2c-a7d9-f61d39e541eb",
   "metadata": {},
   "outputs": [
    {
     "data": {
      "text/plain": [
       "23"
      ]
     },
     "execution_count": 10,
     "metadata": {},
     "output_type": "execute_result"
    }
   ],
   "source": [
    "num_classes = len(train_df.language.unique())\n",
    "num_classes"
   ]
  },
  {
   "cell_type": "markdown",
   "id": "54c6e0a0-010a-4742-ad49-4fecc034a1dd",
   "metadata": {},
   "source": [
    "The expression `r'[^\\w\\s]'` is a **regular expression** (regex) used to match characters based on specific rules. Here's a breakdown of its components:\n",
    "\n",
    "1. **`[ ]`**: Denotes a character set. This matches any single character that is specified inside the brackets.\n",
    "\n",
    "2. **`^` (caret)**: Inside a character set, the `^` negates the set. This means it will match any character *not* specified inside the brackets.\n",
    "\n",
    "3. **`\\w`**: Matches any **word character**, which includes:\n",
    "   - Letters (`a-z`, `A-Z`)\n",
    "   - Digits (`0-9`)\n",
    "   - The underscore (`_`)\n",
    "\n",
    "4. **`\\s`**: Matches any **whitespace character**, including spaces, tabs, and newlines.\n",
    "\n",
    "5. **`[^\\w\\s]`**: Matches any character that is *not* a word character or a whitespace character. Essentially, it matches **punctuation, special characters, or symbols**.\n",
    "\n",
    "6. **`regex=True`**: Indicates that the replacement should interpret the pattern as a regular expression.\n",
    "\n",
    "### Purpose:\n",
    "In this context, the code `str.replace('[^\\w\\s]', '', regex=True)` replaces all non-word and non-whitespace characters (e.g., punctuation like `!`, `?`, `.`, etc.) with an empty string (`''`). This effectively removes punctuation and special symbols from the text."
   ]
  },
  {
   "cell_type": "code",
   "execution_count": 11,
   "id": "ea6e3869-d6b9-48cb-9287-4e3dc020ac0c",
   "metadata": {},
   "outputs": [],
   "source": [
    "# Convert all characters in the 'sentence' column to lowercase and store in a new column 'sentence_lower'\n",
    "train_df['sentence_lower'] = train_df[\"sentence\"].str.lower()\n",
    "\n",
    "# Remove all punctuation from the 'sentence_lower' column using a regex pattern and store in a new column 'sentence_no_punctuation'\n",
    "train_df['sentence_no_punctuation'] = train_df['sentence_lower'].str.replace('[^\\w\\s]', '', regex=True)\n",
    "\n",
    "# Replace any NaN values in the 'sentence_no_punctuation' column with the string \"fillna\"\n",
    "train_df['sentence_no_punctuation'] = train_df[\"sentence_no_punctuation\"].fillna(\"fillna\")"
   ]
  },
  {
   "cell_type": "code",
   "execution_count": 12,
   "id": "ec5a7fea-6306-40fc-97c1-50c96475495b",
   "metadata": {},
   "outputs": [
    {
     "data": {
      "text/plain": [
       "sentence                   klement gottwaldi surnukeha palsameeriti ning ...\n",
       "language                                                            estonian\n",
       "sentence_lower             klement gottwaldi surnukeha palsameeriti ning ...\n",
       "sentence_no_punctuation    klement gottwaldi surnukeha palsameeriti ning ...\n",
       "Name: 0, dtype: object"
      ]
     },
     "execution_count": 12,
     "metadata": {},
     "output_type": "execute_result"
    }
   ],
   "source": [
    "train_df.iloc[0]"
   ]
  },
  {
   "cell_type": "code",
   "execution_count": 13,
   "id": "b8c45041-86ec-4078-9bd6-0ba0a5c40be5",
   "metadata": {},
   "outputs": [
    {
     "name": "stdout",
     "output_type": "stream",
     "text": [
      "0        estonian\n",
      "1         swedish\n",
      "2            thai\n",
      "3           tamil\n",
      "4           dutch\n",
      "           ...   \n",
      "26517     persian\n",
      "26518     persian\n",
      "26519     persian\n",
      "26520     persian\n",
      "26521     persian\n",
      "Name: language, Length: 26522, dtype: object\n",
      "[ 4 18 20 ... 12 12 12]\n"
     ]
    }
   ],
   "source": [
    "# Extract the 'language' column from the DataFrame and assign it to the variable Y (target labels)\n",
    "Y = train_df['language']\n",
    "\n",
    "print(Y)\n",
    "# Create an instance of the LabelEncoder, which is used to convert categorical labels into numeric format\n",
    "encoder = LabelEncoder()\n",
    "\n",
    "# Fit the LabelEncoder to the unique values in Y and transform them into numeric codes\n",
    "Y = encoder.fit_transform(Y)\n",
    "\n",
    "# Display the transformed labels (now numeric values instead of original categorical labels)\n",
    "print(Y)"
   ]
  },
  {
   "cell_type": "code",
   "execution_count": 14,
   "id": "02bfd6f6-cc5a-4ea0-8ff4-00e834135654",
   "metadata": {},
   "outputs": [
    {
     "data": {
      "text/plain": [
       "array(['arabic', 'chinese', 'dutch', 'english', 'estonian', 'french',\n",
       "       'hindi', 'indonesian', 'italian', 'japanese', 'korean', 'latin',\n",
       "       'persian', 'portugese', 'pushto', 'romanian', 'russian', 'spanish',\n",
       "       'swedish', 'tamil', 'thai', 'turkish', 'urdu'], dtype=object)"
      ]
     },
     "execution_count": 14,
     "metadata": {},
     "output_type": "execute_result"
    }
   ],
   "source": [
    "encoder.classes_"
   ]
  },
  {
   "cell_type": "code",
   "execution_count": 15,
   "id": "ac3c2850-94dc-406d-b517-b9f742e38e38",
   "metadata": {},
   "outputs": [
    {
     "data": {
      "text/plain": [
       "23"
      ]
     },
     "execution_count": 15,
     "metadata": {},
     "output_type": "execute_result"
    }
   ],
   "source": [
    "num_classes"
   ]
  },
  {
   "cell_type": "code",
   "execution_count": 16,
   "id": "bf32b7e1-4953-4c8e-a4c8-1c16e7b54a66",
   "metadata": {},
   "outputs": [
    {
     "data": {
      "text/plain": [
       "array([[0., 0., 0., ..., 0., 0., 0.],\n",
       "       [0., 0., 0., ..., 0., 0., 0.],\n",
       "       [0., 0., 0., ..., 1., 0., 0.],\n",
       "       ...,\n",
       "       [0., 0., 0., ..., 0., 0., 0.],\n",
       "       [0., 0., 0., ..., 0., 0., 0.],\n",
       "       [0., 0., 0., ..., 0., 0., 0.]], dtype=float32)"
      ]
     },
     "execution_count": 16,
     "metadata": {},
     "output_type": "execute_result"
    }
   ],
   "source": [
    "# Convert the numeric labels (Y) into one-hot encoded vectors using TensorFlow's utility function\n",
    "Y = tf.keras.utils.to_categorical(\n",
    "    Y,  # The array of numeric labels to be one-hot encoded\n",
    "    num_classes=num_classes  # The total number of unique classes (defines the one-hot vector size)\n",
    ")\n",
    "\n",
    "# Display the one-hot encoded labels\n",
    "Y"
   ]
  },
  {
   "cell_type": "code",
   "execution_count": 18,
   "id": "1d366219-7698-4967-bba6-6f030f668d9b",
   "metadata": {},
   "outputs": [],
   "source": [
    "max_features = 304055 # we set maximum number of words to 304055\n",
    "maxlen = 500 # we set maximum sequence length to 500"
   ]
  },
  {
   "cell_type": "code",
   "execution_count": 19,
   "id": "bd817db8-f240-47b0-879b-867d8d9a2925",
   "metadata": {},
   "outputs": [],
   "source": [
    "# Create an instance of TensorFlow's Tokenizer, which is used for text tokenization\n",
    "tok = tf.keras.preprocessing.text.Tokenizer(num_words = max_features, char_level=False)\n",
    "\n",
    "# Fit the Tokenizer on the cleaned text from the 'sentence_no_punctuation' column\n",
    "# This step builds the vocabulary (word index) based on the text data\n",
    "tok.fit_on_texts(list(train_df['sentence_no_punctuation']))  # Convert the text column to a list for processing"
   ]
  },
  {
   "cell_type": "code",
   "execution_count": 20,
   "id": "4513f3cd-8a48-47dd-a826-67aedba9a814",
   "metadata": {},
   "outputs": [
    {
     "data": {
      "text/plain": [
       "304055"
      ]
     },
     "execution_count": 20,
     "metadata": {},
     "output_type": "execute_result"
    }
   ],
   "source": [
    "len(tok.word_index)"
   ]
  },
  {
   "cell_type": "code",
   "execution_count": 21,
   "id": "7e062078-83af-4513-8b93-33ef57a8ae3f",
   "metadata": {},
   "outputs": [],
   "source": [
    "vocab_size = len(tok.word_index) + 1 "
   ]
  },
  {
   "cell_type": "markdown",
   "id": "05d550e2-042d-4129-b3fe-4a8b0056f1f9",
   "metadata": {},
   "source": [
    "```python\n",
    "# Calculate the vocabulary size by counting the unique words in the Tokenizer's word index and adding 1\n",
    "# This represents the total number of words to be tokenized, including a reserved index (e.g., for padding)\n",
    "vocab_size = len(tok.word_index) + 1 \n",
    "```\n",
    "\n",
    "### Explanation:\n",
    "- **`tok.word_index`**: \n",
    "  - This is a dictionary created by the `Tokenizer`, where keys are words, and values are their corresponding unique integer IDs.\n",
    "  - Example: `{'hello': 1, 'world': 2}` if \"hello\" and \"world\" are in the text.\n",
    "\n",
    "- **`len(tok.word_index)`**: \n",
    "  - Counts the number of unique words in the vocabulary.\n",
    "\n",
    "- **`+ 1`**: \n",
    "  - Adds 1 to the vocabulary size to account for a reserved token (usually `0`), which is often used for **padding** or other purposes."
   ]
  },
  {
   "cell_type": "code",
   "execution_count": 22,
   "id": "148c7357-e4b1-4838-bd2b-fb7d548936da",
   "metadata": {},
   "outputs": [
    {
     "data": {
      "text/plain": [
       "'klement gottwaldi surnukeha palsameeriti ning paigutati mausoleumi surnukeha oli aga liiga hilja ja oskamatult palsameeritud ning hakkas ilmutama lagunemise tundemärke  aastal viidi ta surnukeha mausoleumist ära ja kremeeriti zlíni linn kandis aastatel  nime gottwaldov ukrainas harkivi oblastis kandis zmiivi linn aastatel  nime gotvald'"
      ]
     },
     "execution_count": 22,
     "metadata": {},
     "output_type": "execute_result"
    }
   ],
   "source": [
    "train_df.loc[0, 'sentence_no_punctuation']"
   ]
  },
  {
   "cell_type": "code",
   "execution_count": 23,
   "id": "be416343-9822-4ad6-88d1-a90fc90a5479",
   "metadata": {},
   "outputs": [
    {
     "data": {
      "text/plain": [
       "'estonian'"
      ]
     },
     "execution_count": 23,
     "metadata": {},
     "output_type": "execute_result"
    }
   ],
   "source": [
    "train_df.loc[0, 'language']"
   ]
  },
  {
   "cell_type": "code",
   "execution_count": 24,
   "id": "17b7d1cf-f599-460c-b728-1c2822b819ab",
   "metadata": {},
   "outputs": [],
   "source": [
    "# Convert each sentence in the 'sentence_no_punctuation' column to a sequence of integers (tokens)\n",
    "# based on the word index built by the Tokenizer\n",
    "train_df = tok.texts_to_sequences(list(train_df['sentence_no_punctuation'])) "
   ]
  },
  {
   "cell_type": "code",
   "execution_count": 25,
   "id": "de9e789e-3dff-4b55-9883-399998c70413",
   "metadata": {},
   "outputs": [
    {
     "data": {
      "text/plain": [
       "[38457,\n",
       " 110283,\n",
       " 18248,\n",
       " 110284,\n",
       " 362,\n",
       " 67706,\n",
       " 110285,\n",
       " 18248,\n",
       " 303,\n",
       " 1760,\n",
       " 26781,\n",
       " 67707,\n",
       " 82,\n",
       " 110286,\n",
       " 110287,\n",
       " 362,\n",
       " 11654,\n",
       " 110288,\n",
       " 67708,\n",
       " 110289,\n",
       " 374,\n",
       " 26782,\n",
       " 247,\n",
       " 18248,\n",
       " 110290,\n",
       " 7220,\n",
       " 82,\n",
       " 110291,\n",
       " 110292,\n",
       " 8966,\n",
       " 23133,\n",
       " 2910,\n",
       " 4744,\n",
       " 110293,\n",
       " 38458,\n",
       " 110294,\n",
       " 38459,\n",
       " 23133,\n",
       " 110295,\n",
       " 8966,\n",
       " 2910,\n",
       " 4744,\n",
       " 110296]"
      ]
     },
     "execution_count": 25,
     "metadata": {},
     "output_type": "execute_result"
    }
   ],
   "source": [
    "train_df[0]"
   ]
  },
  {
   "cell_type": "code",
   "execution_count": 26,
   "id": "91060436-bee1-4858-9a61-c1074628ba5e",
   "metadata": {},
   "outputs": [],
   "source": [
    "# Pad all sequences in 'train_df' to a fixed length defined by 'maxlen'\n",
    "# Padding is applied to the beginning ('pre') of sequences shorter than 'maxlen'\n",
    "train_df = tf.keras.preprocessing.sequence.pad_sequences(\n",
    "    train_df,  # List of tokenized sequences\n",
    "    maxlen=maxlen,  # Desired fixed length for all sequences\n",
    "    padding='pre'  # Add padding to the start of each sequence\n",
    ")"
   ]
  },
  {
   "cell_type": "code",
   "execution_count": 27,
   "id": "5a897192-3551-49da-844d-84f7009be5b3",
   "metadata": {},
   "outputs": [
    {
     "data": {
      "text/plain": [
       "array([     0,      0,      0,      0,      0,      0,      0,      0,\n",
       "            0,      0,      0,      0,      0,      0,      0,      0,\n",
       "            0,      0,      0,      0,      0,      0,      0,      0,\n",
       "            0,      0,      0,      0,      0,      0,      0,      0,\n",
       "            0,      0,      0,      0,      0,      0,      0,      0,\n",
       "            0,      0,      0,      0,      0,      0,      0,      0,\n",
       "            0,      0,      0,      0,      0,      0,      0,      0,\n",
       "            0,      0,      0,      0,      0,      0,      0,      0,\n",
       "            0,      0,      0,      0,      0,      0,      0,      0,\n",
       "            0,      0,      0,      0,      0,      0,      0,      0,\n",
       "            0,      0,      0,      0,      0,      0,      0,      0,\n",
       "            0,      0,      0,      0,      0,      0,      0,      0,\n",
       "            0,      0,      0,      0,      0,      0,      0,      0,\n",
       "            0,      0,      0,      0,      0,      0,      0,      0,\n",
       "            0,      0,      0,      0,      0,      0,      0,      0,\n",
       "            0,      0,      0,      0,      0,      0,      0,      0,\n",
       "            0,      0,      0,      0,      0,      0,      0,      0,\n",
       "            0,      0,      0,      0,      0,      0,      0,      0,\n",
       "            0,      0,      0,      0,      0,      0,      0,      0,\n",
       "            0,      0,      0,      0,      0,      0,      0,      0,\n",
       "            0,      0,      0,      0,      0,      0,      0,      0,\n",
       "            0,      0,      0,      0,      0,      0,      0,      0,\n",
       "            0,      0,      0,      0,      0,      0,      0,      0,\n",
       "            0,      0,      0,      0,      0,      0,      0,      0,\n",
       "            0,      0,      0,      0,      0,      0,      0,      0,\n",
       "            0,      0,      0,      0,      0,      0,      0,      0,\n",
       "            0,      0,      0,      0,      0,      0,      0,      0,\n",
       "            0,      0,      0,      0,      0,      0,      0,      0,\n",
       "            0,      0,      0,      0,      0,      0,      0,      0,\n",
       "            0,      0,      0,      0,      0,      0,      0,      0,\n",
       "            0,      0,      0,      0,      0,      0,      0,      0,\n",
       "            0,      0,      0,      0,      0,      0,      0,      0,\n",
       "            0,      0,      0,      0,      0,      0,      0,      0,\n",
       "            0,      0,      0,      0,      0,      0,      0,      0,\n",
       "            0,      0,      0,      0,      0,      0,      0,      0,\n",
       "            0,      0,      0,      0,      0,      0,      0,      0,\n",
       "            0,      0,      0,      0,      0,      0,      0,      0,\n",
       "            0,      0,      0,      0,      0,      0,      0,      0,\n",
       "            0,      0,      0,      0,      0,      0,      0,      0,\n",
       "            0,      0,      0,      0,      0,      0,      0,      0,\n",
       "            0,      0,      0,      0,      0,      0,      0,      0,\n",
       "            0,      0,      0,      0,      0,      0,      0,      0,\n",
       "            0,      0,      0,      0,      0,      0,      0,      0,\n",
       "            0,      0,      0,      0,      0,      0,      0,      0,\n",
       "            0,      0,      0,      0,      0,      0,      0,      0,\n",
       "            0,      0,      0,      0,      0,      0,      0,      0,\n",
       "            0,      0,      0,      0,      0,      0,      0,      0,\n",
       "            0,      0,      0,      0,      0,      0,      0,      0,\n",
       "            0,      0,      0,      0,      0,      0,      0,      0,\n",
       "            0,      0,      0,      0,      0,      0,      0,      0,\n",
       "            0,      0,      0,      0,      0,      0,      0,      0,\n",
       "            0,      0,      0,      0,      0,      0,      0,      0,\n",
       "            0,      0,      0,      0,      0,      0,      0,      0,\n",
       "            0,      0,      0,      0,      0,      0,      0,      0,\n",
       "            0,      0,      0,      0,      0,      0,      0,      0,\n",
       "            0,      0,      0,      0,      0,      0,      0,      0,\n",
       "            0,      0,      0,      0,      0,      0,      0,      0,\n",
       "            0,  38457, 110283,  18248, 110284,    362,  67706, 110285,\n",
       "        18248,    303,   1760,  26781,  67707,     82, 110286, 110287,\n",
       "          362,  11654, 110288,  67708, 110289,    374,  26782,    247,\n",
       "        18248, 110290,   7220,     82, 110291, 110292,   8966,  23133,\n",
       "         2910,   4744, 110293,  38458, 110294,  38459,  23133, 110295,\n",
       "         8966,   2910,   4744, 110296], dtype=int32)"
      ]
     },
     "execution_count": 27,
     "metadata": {},
     "output_type": "execute_result"
    }
   ],
   "source": [
    "train_df[0]"
   ]
  },
  {
   "cell_type": "code",
   "execution_count": 28,
   "id": "d2b89f5c-1287-4d37-8cb0-1dc4879df745",
   "metadata": {},
   "outputs": [],
   "source": [
    "from sklearn.model_selection import train_test_split # divide into train and test set\n",
    "\n",
    "X_train, X_test, y_train, y_test = train_test_split(train_df, Y, test_size=0.2, random_state=42)"
   ]
  },
  {
   "cell_type": "markdown",
   "id": "5493f0e5-a052-4d7b-9636-637aa36e46c0",
   "metadata": {},
   "source": [
    "### Explanation of Each Layer:\n",
    "\n",
    "1. **Embedding Layer**:\n",
    "   - **Purpose**: Converts tokenized word indices into dense vector representations (embeddings).\n",
    "   - **Key Parameters**:\n",
    "     - **`input_dim=vocab_size`**: Size of the vocabulary. This defines how many unique tokens are in the dataset (including padding).\n",
    "     - **`output_dim=embedding_dim`**: The dimensionality of each word vector. We set it to 300, meaning each word is represented as a 300-dimensional dense vector.\n",
    "     - **`input_length=maxlen`**: Specifies the length of input sequences. This ensures the output of the embedding layer has a consistent shape.\n",
    "   - **Output Shape**: `(batch_size, maxlen, embedding_dim)`.\n",
    "\n",
    "2. **Flatten Layer**:\n",
    "   - **Purpose**: Converts the 3D tensor output of the embedding layer into a 1D vector for input into the dense layer.\n",
    "   - **Input Shape**: `(batch_size, maxlen, embedding_dim)`.\n",
    "   - **Output Shape**: `(batch_size, maxlen * embedding_dim)`.\n",
    "\n",
    "3. **Dense Layer**:\n",
    "   - **Purpose**: Produces the final predictions for each class.\n",
    "   - **Key Parameters**:\n",
    "     - **`num_classes`**: The number of unique output classes.\n",
    "     - **`activation='softmax'`**: Ensures the output is a probability distribution across classes, suitable for multi-class classification.\n",
    "   - **Output Shape**: `(batch_size, num_classes)`."
   ]
  },
  {
   "cell_type": "code",
   "execution_count": 36,
   "id": "1acb0777-e978-43a6-9b19-66da883e8b23",
   "metadata": {},
   "outputs": [
    {
     "data": {
      "text/plain": [
       "23"
      ]
     },
     "execution_count": 36,
     "metadata": {},
     "output_type": "execute_result"
    }
   ],
   "source": [
    "num_classes"
   ]
  },
  {
   "cell_type": "code",
   "execution_count": 37,
   "id": "77f17321-955a-43ec-9ec8-baf08c609a06",
   "metadata": {},
   "outputs": [],
   "source": [
    "# Set the embedding vector dimension size\n",
    "embedding_dim = 350\n",
    "\n",
    "# Define a sequential model (stack layers sequentially)\n",
    "model = tf.keras.models.Sequential([\n",
    "    tf.keras.layers.Embedding(input_dim=vocab_size, output_dim=embedding_dim, input_length=maxlen),\n",
    "    tf.keras.layers.LSTM(128),      # Use LSTM to capture sequential patterns\n",
    "    tf.keras.layers.BatchNormalization(),  # Add Batch Normalization\n",
    "    tf.keras.layers.Dense(64, activation='relu'),\n",
    "    tf.keras.layers.BatchNormalization(),  # Add Batch Normalization\n",
    "    tf.keras.layers.Dense(num_classes, activation='softmax')  # Output layer\n",
    "])\n",
    "\n"
   ]
  },
  {
   "cell_type": "code",
   "execution_count": 38,
   "id": "f4d3c6d2-caed-4f69-8ac8-93cc18d656d5",
   "metadata": {},
   "outputs": [],
   "source": [
    "model.compile(\n",
    "    optimizer='adam',\n",
    "    loss='categorical_crossentropy',\n",
    "    metrics=[\n",
    "        'accuracy',  # Built-in accuracy metric\n",
    "        tf.keras.metrics.Precision(),  # Precision metric\n",
    "        tf.keras.metrics.Recall()  # Recall metric\n",
    "    ]\n",
    ")"
   ]
  },
  {
   "cell_type": "markdown",
   "id": "d952a671-98ab-4410-8059-e2339f6c11e7",
   "metadata": {},
   "source": [
    "### Explanation of the Model Compilation Code\n",
    "\n",
    "### **Components**\n",
    "#### 1. **`optimizer='adam'`**\n",
    "- **Adam Optimizer**:\n",
    "  - Combines the benefits of **Adaptive Gradient Algorithm (AdaGrad)** and **Root Mean Square Propagation (RMSProp)**.\n",
    "  - Efficient for handling sparse gradients and non-stationary objectives.\n",
    "  - Automatically adjusts the learning rate during training.\n",
    "\n",
    "---\n",
    "\n",
    "#### 2. **`loss='categorical_crossentropy'`**\n",
    "- **Categorical Cross-Entropy Loss**:\n",
    "  - Used for multi-class classification problems where labels are one-hot encoded.\n",
    "  - Measures the difference between the predicted probability distribution and the true distribution.\n",
    "    \n",
    "---\n",
    "\n",
    "#### 3. **`metrics`**\n",
    "- A list of metrics to evaluate during training and validation. These do not affect the training process directly but are used for monitoring model performance.\n",
    "\n",
    "1. **`accuracy`**:\n",
    "   - Measures the percentage of correct predictions.\n",
    "   - For multi-class classification, it checks if the predicted class (highest softmax probability) matches the true class.\n",
    "\n",
    "2. **`tf.keras.metrics.Precision()`**:\n",
    "   - **Precision** measures the proportion of true positive predictions among all positive predictions.\n",
    "   - Indicates how many of the predicted positive labels were correct.\n",
    "\n",
    "3. **`tf.keras.metrics.Recall()`**:\n",
    "   - **Recall** (also called Sensitivity or True Positive Rate) measures the proportion of true positive predictions among all actual positives.\n",
    "   - Indicates how well the model captures all relevant instances.\n",
    "\n",
    "---\n",
    "\n",
    "### **Summary**\n",
    "- This configuration optimizes the model with Adam, calculates loss using categorical cross-entropy, and evaluates performance using **accuracy**, **precision**, and **recall**.\n",
    "- These metrics help monitor the model's effectiveness for classification tasks and provide insights into its ability to make accurate predictions while balancing false positives and false negatives.\n"
   ]
  },
  {
   "cell_type": "code",
   "execution_count": 39,
   "id": "fc8a33ab-fb87-4d7c-91e4-8fffd0201b7a",
   "metadata": {},
   "outputs": [
    {
     "name": "stdout",
     "output_type": "stream",
     "text": [
      "Model: \"sequential_1\"\n",
      "_________________________________________________________________\n",
      " Layer (type)                Output Shape              Param #   \n",
      "=================================================================\n",
      " embedding_1 (Embedding)     (None, 500, 350)          106419600 \n",
      "                                                                 \n",
      " lstm_1 (LSTM)               (None, 128)               245248    \n",
      "                                                                 \n",
      " batch_normalization (BatchN  (None, 128)              512       \n",
      " ormalization)                                                   \n",
      "                                                                 \n",
      " dense_2 (Dense)             (None, 64)                8256      \n",
      "                                                                 \n",
      " batch_normalization_1 (Batc  (None, 64)               256       \n",
      " hNormalization)                                                 \n",
      "                                                                 \n",
      " dense_3 (Dense)             (None, 23)                1495      \n",
      "                                                                 \n",
      "=================================================================\n",
      "Total params: 106,675,367\n",
      "Trainable params: 106,674,983\n",
      "Non-trainable params: 384\n",
      "_________________________________________________________________\n"
     ]
    }
   ],
   "source": [
    "model.summary()"
   ]
  },
  {
   "cell_type": "code",
   "execution_count": 40,
   "id": "6bf24ee6-1ed3-4727-9508-96753b1f6382",
   "metadata": {},
   "outputs": [
    {
     "data": {
      "image/png": "[encoded data removed]",
      "text/plain": [
       "<IPython.core.display.Image object>"
      ]
     },
     "execution_count": 40,
     "metadata": {},
     "output_type": "execute_result"
    }
   ],
   "source": [
    "from tensorflow.keras.utils import plot_model\n",
    "plot_model(\n",
    "    model, \n",
    "    to_file='Model/LSTM/model_structure.png',  # Save the image to this file\n",
    "    show_shapes=True,              # Display the output shapes of each layer\n",
    "    show_layer_names=True,         # Display the layer names\n",
    "    dpi=96                         # Adjust the resolution\n",
    ")"
   ]
  },
  {
   "cell_type": "code",
   "execution_count": 41,
   "id": "e5ce61c3-fd23-42f9-a9d4-e2c6bff5903b",
   "metadata": {},
   "outputs": [
    {
     "name": "stdout",
     "output_type": "stream",
     "text": [
      "Epoch 1/50\n",
      "531/531 [==============================] - 1656s 3s/step - loss: 0.4441 - accuracy: 0.8842 - precision_1: 0.9564 - recall_1: 0.8175 - val_loss: 0.2369 - val_accuracy: 0.9314 - val_precision_1: 0.9618 - val_recall_1: 0.9074\n",
      "Epoch 2/50\n",
      "531/531 [==============================] - 1577s 3s/step - loss: 0.0950 - accuracy: 0.9770 - precision_1: 0.9868 - recall_1: 0.9672 - val_loss: 0.2011 - val_accuracy: 0.9305 - val_precision_1: 0.9449 - val_recall_1: 0.9218\n",
      "Epoch 3/50\n",
      "531/531 [==============================] - 1572s 3s/step - loss: 0.0208 - accuracy: 0.9952 - precision_1: 0.9965 - recall_1: 0.9940 - val_loss: 0.1779 - val_accuracy: 0.9390 - val_precision_1: 0.9513 - val_recall_1: 0.9336\n",
      "Epoch 4/50\n",
      "531/531 [==============================] - 1566s 3s/step - loss: 0.0060 - accuracy: 0.9989 - precision_1: 0.9992 - recall_1: 0.9986 - val_loss: 0.1777 - val_accuracy: 0.9409 - val_precision_1: 0.9505 - val_recall_1: 0.9361\n",
      "Epoch 5/50\n",
      "531/531 [==============================] - 1559s 3s/step - loss: 0.0065 - accuracy: 0.9987 - precision_1: 0.9989 - recall_1: 0.9985 - val_loss: 0.1998 - val_accuracy: 0.9371 - val_precision_1: 0.9478 - val_recall_1: 0.9293\n",
      "Epoch 6/50\n",
      "531/531 [==============================] - 1561s 3s/step - loss: 0.0088 - accuracy: 0.9981 - precision_1: 0.9982 - recall_1: 0.9979 - val_loss: 0.2004 - val_accuracy: 0.9338 - val_precision_1: 0.9450 - val_recall_1: 0.9270\n",
      "Epoch 7/50\n",
      "531/531 [==============================] - 1611s 3s/step - loss: 0.0112 - accuracy: 0.9973 - precision_1: 0.9980 - recall_1: 0.9971 - val_loss: 0.3107 - val_accuracy: 0.9126 - val_precision_1: 0.9314 - val_recall_1: 0.8987\n"
     ]
    }
   ],
   "source": [
    "from tensorflow.keras.callbacks import EarlyStopping\n",
    "\n",
    "# Define EarlyStopping\n",
    "early_stopping = EarlyStopping(\n",
    "    monitor='val_loss',       # Metric to monitor (e.g., val_loss or val_accuracy)\n",
    "    patience=3,               # Number of epochs to wait without improvement\n",
    "    restore_best_weights=True # Restore the model weights from the epoch with the best value\n",
    ")\n",
    "\n",
    "# Train the model with Early Stopping\n",
    "history = model.fit(\n",
    "    X_train, y_train,\n",
    "    validation_split=0.2,     # Allocate a portion of the data for validation\n",
    "    epochs=50,                # Maximum number of epochs\n",
    "    batch_size=32,            # Batch size\n",
    "    callbacks=[early_stopping] # Add Early Stopping to the callbacks\n",
    ")"
   ]
  },
  {
   "cell_type": "code",
   "execution_count": 42,
   "id": "065488a4-6c78-4171-9dab-128ad409769b",
   "metadata": {},
   "outputs": [
    {
     "name": "stderr",
     "output_type": "stream",
     "text": [
      "WARNING:absl:Found untraced functions such as lstm_cell_1_layer_call_fn, lstm_cell_1_layer_call_and_return_conditional_losses while saving (showing 2 of 2). These functions will not be directly callable after loading.\n"
     ]
    },
    {
     "name": "stdout",
     "output_type": "stream",
     "text": [
      "INFO:tensorflow:Assets written to: Model/LSTM/model/assets\n"
     ]
    },
    {
     "name": "stderr",
     "output_type": "stream",
     "text": [
      "INFO:tensorflow:Assets written to: Model/LSTM/model/assets\n"
     ]
    }
   ],
   "source": [
    "model.save('Model/LSTM/model.h5')\n",
    "model.save('Model/LSTM/model')"
   ]
  },
  {
   "cell_type": "code",
   "execution_count": 44,
   "id": "e80b30f7-c0c1-41f8-afe0-b763519e737e",
   "metadata": {},
   "outputs": [],
   "source": [
    "model = tf.keras.models.load_model('Model/LSTM/model.h5')"
   ]
  },
  {
   "cell_type": "code",
   "execution_count": 45,
   "id": "a9ec9619-040a-4d02-a924-1f1688db4656",
   "metadata": {},
   "outputs": [
    {
     "name": "stdout",
     "output_type": "stream",
     "text": [
      "166/166 [==============================] - 22s 127ms/step - loss: 0.1700 - accuracy: 0.9431 - precision_1: 0.9508 - recall_1: 0.9399\n"
     ]
    },
    {
     "data": {
      "text/plain": [
       "[0.16995717585086823,\n",
       " 0.9430725574493408,\n",
       " 0.950800895690918,\n",
       " 0.9398680329322815]"
      ]
     },
     "execution_count": 45,
     "metadata": {},
     "output_type": "execute_result"
    }
   ],
   "source": [
    "# Evaluate the model\n",
    "results = model.evaluate(X_test, y_test, verbose=1)\n",
    "results"
   ]
  },
  {
   "cell_type": "code",
   "execution_count": 46,
   "id": "05563dff-a43e-45fb-8f2c-a9f32da57dd9",
   "metadata": {},
   "outputs": [
    {
     "name": "stdout",
     "output_type": "stream",
     "text": [
      "F1-Score: 0.9453\n",
      "166/166 [==============================] - 22s 129ms/step\n"
     ]
    },
    {
     "data": {
      "text/plain": [
       "<sklearn.metrics._plot.confusion_matrix.ConfusionMatrixDisplay at 0x7f2ed1d2fee0>"
      ]
     },
     "execution_count": 46,
     "metadata": {},
     "output_type": "execute_result"
    },
    {
     "data": {
      "image/png": "[encoded data removed]",
      "text/plain": [
       "<Figure size 640x480 with 2 Axes>"
      ]
     },
     "metadata": {},
     "output_type": "display_data"
    }
   ],
   "source": [
    "from sklearn.metrics import confusion_matrix, ConfusionMatrixDisplay\n",
    "import numpy as np\n",
    "\n",
    "precision = results[2]\n",
    "recall = results[3]\n",
    "\n",
    "# Calculate F1-Score\n",
    "f1_score = 2 * (precision * recall) / (precision + recall)\n",
    "print(f\"F1-Score: {f1_score:.4f}\")\n",
    "\n",
    "# Get predictions\n",
    "y_pred = model.predict(X_test)\n",
    "y_pred_classes = np.argmax(y_pred, axis=1)\n",
    "y_true = np.argmax(y_test, axis=1)\n",
    "\n",
    "# Compute and plot confusion matrix\n",
    "cm = confusion_matrix(y_true, y_pred_classes)\n",
    "disp = ConfusionMatrixDisplay(confusion_matrix=cm)\n",
    "disp.plot(cmap='Blues')"
   ]
  },
  {
   "cell_type": "code",
   "execution_count": 47,
   "id": "3bd5a64e-4c65-432e-b326-580e9878df51",
   "metadata": {},
   "outputs": [
    {
     "name": "stdout",
     "output_type": "stream",
     "text": [
      "Classes: ['arabic' 'chinese' 'dutch' 'english' 'estonian' 'french' 'hindi'\n",
      " 'indonesian' 'italian' 'japanese' 'korean' 'latin' 'persian' 'portugese'\n",
      " 'pushto' 'romanian' 'russian' 'spanish' 'swedish' 'tamil' 'thai'\n",
      " 'turkish' 'urdu']\n"
     ]
    }
   ],
   "source": [
    "# Print all classes\n",
    "print(\"Classes:\", encoder.classes_)"
   ]
  },
  {
   "cell_type": "code",
   "execution_count": 48,
   "id": "730ce32c-d987-470f-bdab-01dec98ac135",
   "metadata": {},
   "outputs": [
    {
     "name": "stdout",
     "output_type": "stream",
     "text": [
      "Index of 'arabic': 0\n",
      "Index of 'chinese': 1\n",
      "Index of 'dutch': 2\n",
      "Index of 'english': 3\n",
      "Index of 'estonian': 4\n",
      "Index of 'french': 5\n",
      "Index of 'hindi': 6\n",
      "Index of 'indonesian': 7\n",
      "Index of 'italian': 8\n",
      "Index of 'japanese': 9\n",
      "Index of 'korean': 10\n",
      "Index of 'latin': 11\n",
      "Index of 'persian': 12\n",
      "Index of 'portugese': 13\n",
      "Index of 'pushto': 14\n",
      "Index of 'romanian': 15\n",
      "Index of 'russian': 16\n",
      "Index of 'spanish': 17\n",
      "Index of 'swedish': 18\n",
      "Index of 'tamil': 19\n",
      "Index of 'thai': 20\n",
      "Index of 'turkish': 21\n",
      "Index of 'urdu': 22\n"
     ]
    }
   ],
   "source": [
    "for class_name in encoder.classes_ :\n",
    "    class_index = list(encoder.classes_).index(class_name)\n",
    "    print(f\"Index of '{class_name}': {class_index}\")"
   ]
  },
  {
   "cell_type": "code",
   "execution_count": 49,
   "id": "fc928a3f-b966-4a6d-be5a-a02a3a5ea672",
   "metadata": {},
   "outputs": [
    {
     "name": "stdout",
     "output_type": "stream",
     "text": [
      "Classes for indices [0, 1, 2, 3, 4, 5, 6, 7, 8, 9, 10, 11, 12, 13, 14, 15, 16, 17, 18, 19, 20, 21, 22]: ['arabic' 'chinese' 'dutch' 'english' 'estonian' 'french' 'hindi'\n",
      " 'indonesian' 'italian' 'japanese' 'korean' 'latin' 'persian' 'portugese'\n",
      " 'pushto' 'romanian' 'russian' 'spanish' 'swedish' 'tamil' 'thai'\n",
      " 'turkish' 'urdu']\n"
     ]
    }
   ],
   "source": [
    "indices = [0, 1, 2, 3, 4, 5, 6, 7, 8, 9, 10, 11, 12, 13, 14, 15, 16, 17, 18, 19, 20, 21, 22]\n",
    "original_classes = encoder.inverse_transform(indices)\n",
    "print(f\"Classes for indices {indices}: {original_classes}\")"
   ]
  },
  {
   "cell_type": "code",
   "execution_count": 50,
   "id": "1480f4e8-6744-4925-97ae-001080f383b7",
   "metadata": {},
   "outputs": [
    {
     "name": "stdout",
     "output_type": "stream",
     "text": [
      "Class to Index Mapping: {'arabic': 0, 'chinese': 1, 'dutch': 2, 'english': 3, 'estonian': 4, 'french': 5, 'hindi': 6, 'indonesian': 7, 'italian': 8, 'japanese': 9, 'korean': 10, 'latin': 11, 'persian': 12, 'portugese': 13, 'pushto': 14, 'romanian': 15, 'russian': 16, 'spanish': 17, 'swedish': 18, 'tamil': 19, 'thai': 20, 'turkish': 21, 'urdu': 22}\n",
      "Index to Class Mapping: {0: 'arabic', 1: 'chinese', 2: 'dutch', 3: 'english', 4: 'estonian', 5: 'french', 6: 'hindi', 7: 'indonesian', 8: 'italian', 9: 'japanese', 10: 'korean', 11: 'latin', 12: 'persian', 13: 'portugese', 14: 'pushto', 15: 'romanian', 16: 'russian', 17: 'spanish', 18: 'swedish', 19: 'tamil', 20: 'thai', 21: 'turkish', 22: 'urdu'}\n",
      "Index of 'persian': 12\n",
      "Class for index 12: persian\n"
     ]
    }
   ],
   "source": [
    "# Class to Index Mapping\n",
    "class_to_index = {class_name: index for index, class_name in enumerate(encoder.classes_)}\n",
    "print(\"Class to Index Mapping:\", class_to_index)\n",
    "\n",
    "# Index to Class Mapping\n",
    "index_to_class = {index: class_name for index, class_name in enumerate(encoder.classes_)}\n",
    "print(\"Index to Class Mapping:\", index_to_class)\n",
    "\n",
    "# Retrieve index for a specific class\n",
    "class_name = 'persian'\n",
    "class_index = encoder.transform([class_name])[0]\n",
    "print(f\"Index of '{class_name}': {class_index}\")\n",
    "\n",
    "# Retrieve class for a specific index\n",
    "index = 12\n",
    "original_class = encoder.inverse_transform([index])[0]\n",
    "print(f\"Class for index {index}: {original_class}\")"
   ]
  },
  {
   "cell_type": "code",
   "execution_count": 51,
   "id": "dd203551-82fa-4dc5-8744-34a345b7e732",
   "metadata": {},
   "outputs": [],
   "source": [
    "new_text = [\"tensorflow is a great tool you can find a lot of tutorials from\"]"
   ]
  },
  {
   "cell_type": "code",
   "execution_count": 52,
   "id": "f423e0a7-7984-4f9a-aec5-fff2ede6511e",
   "metadata": {},
   "outputs": [],
   "source": [
    "test_text = tok.texts_to_sequences(new_text)\n",
    "test_text = tf.keras.preprocessing.sequence.pad_sequences(test_text, maxlen = maxlen)"
   ]
  },
  {
   "cell_type": "code",
   "execution_count": 53,
   "id": "c36f3794-312b-4a5e-879d-d5aef207729a",
   "metadata": {},
   "outputs": [
    {
     "name": "stdout",
     "output_type": "stream",
     "text": [
      "1/1 [==============================] - 0s 69ms/step\n",
      "3\n",
      "[[1.3422233e-04 2.1997499e-01 4.2047449e-03 6.1879593e-01 1.4269046e-04\n",
      "  3.4348090e-04 6.6534758e-02 3.2680666e-05 8.9399074e-04 7.4586242e-02\n",
      "  1.1320059e-05 6.1752193e-04 3.2130763e-05 1.6978194e-03 3.3661304e-04\n",
      "  1.5293817e-03 2.0190477e-04 2.9796266e-04 4.4729961e-05 1.7518050e-04\n",
      "  7.7783600e-03 1.2248659e-03 4.0843061e-04]]\n"
     ]
    }
   ],
   "source": [
    "predictions = model.predict(test_text)\n",
    "print(predictions.argmax())\n",
    "print(predictions)"
   ]
  },
  {
   "cell_type": "code",
   "execution_count": 54,
   "id": "e433e6b7-15e3-4989-b1cd-ad1a1fea4136",
   "metadata": {},
   "outputs": [
    {
     "name": "stdout",
     "output_type": "stream",
     "text": [
      "Classes: ['arabic' 'chinese' 'dutch' 'english' 'estonian' 'french' 'hindi'\n",
      " 'indonesian' 'italian' 'japanese' 'korean' 'latin' 'persian' 'portugese'\n",
      " 'pushto' 'romanian' 'russian' 'spanish' 'swedish' 'tamil' 'thai'\n",
      " 'turkish' 'urdu']\n"
     ]
    }
   ],
   "source": [
    "# Print all classes\n",
    "print(\"Classes:\", encoder.classes_)"
   ]
  },
  {
   "cell_type": "code",
   "execution_count": 55,
   "id": "43fdc16c-474b-41f6-870f-c586c1cdb517",
   "metadata": {},
   "outputs": [],
   "source": [
    "def lang_detector(txt):\n",
    "    tmp = tok.texts_to_sequences(txt)\n",
    "    tmp = tf.keras.preprocessing.sequence.pad_sequences(tmp, maxlen = maxlen)\n",
    "    prediction = model.predict(tmp)\n",
    "    label = prediction.argmax()\n",
    "    prediction = encoder.inverse_transform([label])\n",
    "    print(txt, prediction)    "
   ]
  },
  {
   "cell_type": "code",
   "execution_count": 66,
   "id": "e2d24e50-c3b5-4bcd-9257-6eb50261d11f",
   "metadata": {},
   "outputs": [
    {
     "name": "stdout",
     "output_type": "stream",
     "text": [
      "1/1 [==============================] - 0s 69ms/step\n",
      "Input Text: tensorflow یک ابزار عالی است که می توانید آموزش های زیادی از آن بیابید\n",
      "Predicted Language: persian\n",
      "\n"
     ]
    }
   ],
   "source": [
    "# tmp_txt = [\"tensorflow est un excellent outil vous pouvez trouver beaucoup de tutoriels de\"]\n",
    "# tmp_txt = [\"tensorflow è un ottimo strumento puoi trovare molti tutorial di\"]\n",
    "# tmp_txt = [\"tensorflow es una gran herramienta puedes encontrar muchos tutoriales de\"]\n",
    "tmp_txt = [\"tensorflow یک ابزار عالی است که می توانید آموزش های زیادی از آن بیابید\"]\n",
    "\n",
    "lang_detector(tmp_txt)"
   ]
  },
  {
   "cell_type": "code",
   "execution_count": 67,
   "id": "841fc53a-ac6f-4122-9f32-0e4c3b3c83f7",
   "metadata": {},
   "outputs": [],
   "source": [
    "# Define a list of sentences in different languages, each with approximately 20 words\n",
    "tmp_txt = [\n",
    "    # Arabic\n",
    "    \"هذا النص مكتوب باللغة العربية ويحتوي على عشرين كلمة لتوضيح الفكرة في نموذج التعلم العميق الخاص بنا.\",\n",
    "    # Chinese\n",
    "    \"这是一个用中文写的句子，有二十个词，用于测试深度学习模型的语言检测功能。\",\n",
    "    # Dutch\n",
    "    \"Dit is een zin geschreven in het Nederlands met twintig woorden om het taaldetectiemodel te testen.\",\n",
    "    # English\n",
    "    \"This is a sentence written in English with twenty words to demonstrate the language detection model's functionality.\",\n",
    "    # Estonian\n",
    "    \"See on eesti keeles kirjutatud lause, millel on kakskümmend sõna, et demonstreerida mudeli keele tuvastamist.\",\n",
    "    # French\n",
    "    \"Ceci est une phrase écrite en français avec vingt mots pour tester la détection de langue du modèle.\",\n",
    "    # Hindi\n",
    "    \"यह हिंदी में लिखा गया एक वाक्य है जिसमें बीस शब्द हैं और इसका उद्देश्य भाषा पहचान करना है।\",\n",
    "    # Indonesian\n",
    "    \"Ini adalah kalimat dalam bahasa Indonesia dengan dua puluh kata untuk menguji kemampuan deteksi bahasa model.\",\n",
    "    # Italian\n",
    "    \"Questa è una frase scritta in italiano con venti parole per dimostrare il rilevamento della lingua del modello.\",\n",
    "    # Japanese\n",
    "    \"これは日本語で書かれた文章で、モデルの言語検出機能をテストするための20語が含まれています。\",\n",
    "    # Korean\n",
    "    \"이 문장은 한국어로 작성되었으며 모델의 언어 감지 기능을 테스트하기 위해 20단어를 포함합니다.\",\n",
    "    # Latin\n",
    "    \"Hoc est sententia Latine scripta viginti verbis ad exemplum linguae detectionis demonstrandum.\",\n",
    "    # Persian\n",
    "    \"این جمله‌ای است که به زبان فارسی نوشته شده و شامل بیست کلمه برای آزمایش مدل تشخیص زبان است.\",\n",
    "    # Portuguese\n",
    "    \"Esta é uma frase escrita em português com vinte palavras para testar a funcionalidade de detecção de idiomas do modelo.\",\n",
    "    # Pushto\n",
    "    \"دا یو متن دی چې په پښتو ژبه لیکل شوی او شل کلمې لري ترڅو د ژبې ماډل وازمایي.\",\n",
    "    # Romanian\n",
    "    \"Aceasta este o propoziție scrisă în limba română cu douăzeci de cuvinte pentru a testa modelul de detectare a limbii.\",\n",
    "    # Russian\n",
    "    \"Это предложение на русском языке из двадцати слов для тестирования функции обнаружения языка модели.\",\n",
    "    # Spanish\n",
    "    \"Esta es una oración escrita en español con veinte palabras para demostrar el modelo de detección de idiomas.\",\n",
    "    # Swedish\n",
    "    \"Detta är en mening skriven på svenska med tjugo ord för att testa modellens språkdetection.\",\n",
    "    # Tamil\n",
    "    \"இது தமிழ் மொழியில் எழுதப்பட்ட ஒரு வாக்கியம், இது மொழி கண்டறிதல் மாடலை சோதிக்கின்றது.\",\n",
    "    # Thai\n",
    "    \"นี่คือประโยคที่เขียนด้วยภาษาไทยมีคำยี่สิบคำเพื่อทดสอบความสามารถของโมเดลในการตรวจจับภาษา.\",\n",
    "    # Turkish\n",
    "    \"Bu, Türkçe yazılmış, modelin dil algılama işlevini test etmek için yirmi kelime içeren bir cümledir.\",\n",
    "    # Urdu\n",
    "    \"یہ ایک جملہ ہے جو اردو میں لکھا گیا ہے اور اس میں زبان کی شناخت کے لیے بیس الفاظ ہیں۔\"\n",
    "]"
   ]
  },
  {
   "cell_type": "code",
   "execution_count": 68,
   "id": "4519561e-9c4b-4f34-9662-148122f97bbb",
   "metadata": {},
   "outputs": [],
   "source": [
    "def lang_detector(texts):\n",
    "    \"\"\"\n",
    "    Detects the language of the input text(s) using the trained model.\n",
    "\n",
    "    Args:\n",
    "        texts (list of str): A list of sentences for which language prediction is required.\n",
    "\n",
    "    Returns:\n",
    "        None: Prints each input sentence with its predicted language.\n",
    "    \"\"\"\n",
    "    # Convert the input texts to sequences using the tokenizer\n",
    "    sequences = tok.texts_to_sequences(texts)\n",
    "    \n",
    "    # Pad the sequences to match the input length of the model\n",
    "    padded_sequences = tf.keras.preprocessing.sequence.pad_sequences(sequences, maxlen=maxlen)\n",
    "    \n",
    "    # Predict the language probabilities for the input sentences\n",
    "    predictions = model.predict(padded_sequences)\n",
    "    \n",
    "    # Get the predicted language for each sentence\n",
    "    predicted_labels = predictions.argmax(axis=1)\n",
    "    \n",
    "    # Convert the numeric labels back to their language names\n",
    "    predicted_languages = encoder.inverse_transform(predicted_labels)\n",
    "    \n",
    "    # Print the results for each input sentence\n",
    "    for text, language in zip(texts, predicted_languages):\n",
    "        print(f\"Input Text: {text}\\nPredicted Language: {language}\\n\")"
   ]
  },
  {
   "cell_type": "code",
   "execution_count": 69,
   "id": "705f6815-5ca0-44b2-9f95-85f94463ec2d",
   "metadata": {},
   "outputs": [
    {
     "name": "stdout",
     "output_type": "stream",
     "text": [
      "1/1 [==============================] - 0s 161ms/step\n",
      "Input Text: هذا النص مكتوب باللغة العربية ويحتوي على عشرين كلمة لتوضيح الفكرة في نموذج التعلم العميق الخاص بنا.\n",
      "Predicted Language: arabic\n",
      "\n",
      "Input Text: 这是一个用中文写的句子，有二十个词，用于测试深度学习模型的语言检测功能。\n",
      "Predicted Language: chinese\n",
      "\n",
      "Input Text: Dit is een zin geschreven in het Nederlands met twintig woorden om het taaldetectiemodel te testen.\n",
      "Predicted Language: dutch\n",
      "\n",
      "Input Text: This is a sentence written in English with twenty words to demonstrate the language detection model's functionality.\n",
      "Predicted Language: english\n",
      "\n",
      "Input Text: See on eesti keeles kirjutatud lause, millel on kakskümmend sõna, et demonstreerida mudeli keele tuvastamist.\n",
      "Predicted Language: estonian\n",
      "\n",
      "Input Text: Ceci est une phrase écrite en français avec vingt mots pour tester la détection de langue du modèle.\n",
      "Predicted Language: french\n",
      "\n",
      "Input Text: यह हिंदी में लिखा गया एक वाक्य है जिसमें बीस शब्द हैं और इसका उद्देश्य भाषा पहचान करना है।\n",
      "Predicted Language: hindi\n",
      "\n",
      "Input Text: Ini adalah kalimat dalam bahasa Indonesia dengan dua puluh kata untuk menguji kemampuan deteksi bahasa model.\n",
      "Predicted Language: indonesian\n",
      "\n",
      "Input Text: Questa è una frase scritta in italiano con venti parole per dimostrare il rilevamento della lingua del modello.\n",
      "Predicted Language: italian\n",
      "\n",
      "Input Text: これは日本語で書かれた文章で、モデルの言語検出機能をテストするための20語が含まれています。\n",
      "Predicted Language: chinese\n",
      "\n",
      "Input Text: 이 문장은 한국어로 작성되었으며 모델의 언어 감지 기능을 테스트하기 위해 20단어를 포함합니다.\n",
      "Predicted Language: korean\n",
      "\n",
      "Input Text: Hoc est sententia Latine scripta viginti verbis ad exemplum linguae detectionis demonstrandum.\n",
      "Predicted Language: latin\n",
      "\n",
      "Input Text: این جمله‌ای است که به زبان فارسی نوشته شده و شامل بیست کلمه برای آزمایش مدل تشخیص زبان است.\n",
      "Predicted Language: persian\n",
      "\n",
      "Input Text: Esta é uma frase escrita em português com vinte palavras para testar a funcionalidade de detecção de idiomas do modelo.\n",
      "Predicted Language: portugese\n",
      "\n",
      "Input Text: دا یو متن دی چې په پښتو ژبه لیکل شوی او شل کلمې لري ترڅو د ژبې ماډل وازمایي.\n",
      "Predicted Language: pushto\n",
      "\n",
      "Input Text: Aceasta este o propoziție scrisă în limba română cu douăzeci de cuvinte pentru a testa modelul de detectare a limbii.\n",
      "Predicted Language: romanian\n",
      "\n",
      "Input Text: Это предложение на русском языке из двадцати слов для тестирования функции обнаружения языка модели.\n",
      "Predicted Language: russian\n",
      "\n",
      "Input Text: Esta es una oración escrita en español con veinte palabras para demostrar el modelo de detección de idiomas.\n",
      "Predicted Language: spanish\n",
      "\n",
      "Input Text: Detta är en mening skriven på svenska med tjugo ord för att testa modellens språkdetection.\n",
      "Predicted Language: swedish\n",
      "\n",
      "Input Text: இது தமிழ் மொழியில் எழுதப்பட்ட ஒரு வாக்கியம், இது மொழி கண்டறிதல் மாடலை சோதிக்கின்றது.\n",
      "Predicted Language: chinese\n",
      "\n",
      "Input Text: นี่คือประโยคที่เขียนด้วยภาษาไทยมีคำยี่สิบคำเพื่อทดสอบความสามารถของโมเดลในการตรวจจับภาษา.\n",
      "Predicted Language: chinese\n",
      "\n",
      "Input Text: Bu, Türkçe yazılmış, modelin dil algılama işlevini test etmek için yirmi kelime içeren bir cümledir.\n",
      "Predicted Language: turkish\n",
      "\n",
      "Input Text: یہ ایک جملہ ہے جو اردو میں لکھا گیا ہے اور اس میں زبان کی شناخت کے لیے بیس الفاظ ہیں۔\n",
      "Predicted Language: urdu\n",
      "\n"
     ]
    }
   ],
   "source": [
    "# Detect and print the predicted languages for the input sentences\n",
    "lang_detector(tmp_txt)"
   ]
  }
 ],
 "metadata": {
  "kernelspec": {
   "display_name": "Python 3 (ipykernel)",
   "language": "python",
   "name": "python3"
  },
  "language_info": {
   "codemirror_mode": {
    "name": "ipython",
    "version": 3
   },
   "file_extension": ".py",
   "mimetype": "text/x-python",
   "name": "python",
   "nbconvert_exporter": "python",
   "pygments_lexer": "ipython3",
   "version": "3.8.15"
  }
 },
 "nbformat": 4,
 "nbformat_minor": 5
}
